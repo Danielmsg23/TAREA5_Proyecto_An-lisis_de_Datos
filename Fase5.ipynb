{
 "cells": [
  {
   "cell_type": "markdown",
   "id": "3bfc5b4b-72b4-44fe-b8c1-63c4e2dab827",
   "metadata": {},
   "source": [
    "# Analisis de datos.\n"
   ]
  },
  {
   "cell_type": "markdown",
   "id": "61902153-89df-4c89-b2cc-42c4de8f7f24",
   "metadata": {},
   "source": [
    "# Modelo de regresion lineal."
   ]
  },
  {
   "cell_type": "code",
   "execution_count": 32,
   "id": "6463df54-f97a-4e07-8d16-cd859c957923",
   "metadata": {},
   "outputs": [],
   "source": [
    "# se importan las bibliotecas necesarias para la ejecucion de la actividad (codigo)\n",
    "import pandas as pd \n",
    "import numpy as np\n",
    "import warnings\n",
    "import seaborn as sns \n",
    "import matplotlib.pyplot as plt \n",
    "from sklearn.impute import SimpleImputer\n",
    "from sklearn import metrics\n",
    "from sklearn.linear_model import LinearRegression\n",
    "from sklearn.model_selection import train_test_split\n",
    "from sklearn.linear_model import LogisticRegression\n",
    "from sklearn.metrics import classification_report, confusion_matrix\n",
    "from sklearn.preprocessing import OneHotEncoder\n",
    "from sklearn.metrics import mean_squared_error, r2_score\n",
    "from sklearn.metrics import precision_score, recall_score, f1_score\n",
    "from sklearn.metrics import accuracy_score, classification_report"
   ]
  },
  {
   "cell_type": "code",
   "execution_count": 4,
   "id": "4b60cc67-caa4-4bff-9ee7-19597563c9de",
   "metadata": {},
   "outputs": [],
   "source": [
    "# Cargar el dataset desde un archivo CSV\n",
    "titanic = pd.read_csv('Titanic-Dataset.csv')"
   ]
  },
  {
   "cell_type": "code",
   "execution_count": 5,
   "id": "2f24137a-a829-4c48-9948-75d49b4b3872",
   "metadata": {},
   "outputs": [
    {
     "data": {
      "text/html": [
       "<div>\n",
       "<style scoped>\n",
       "    .dataframe tbody tr th:only-of-type {\n",
       "        vertical-align: middle;\n",
       "    }\n",
       "\n",
       "    .dataframe tbody tr th {\n",
       "        vertical-align: top;\n",
       "    }\n",
       "\n",
       "    .dataframe thead th {\n",
       "        text-align: right;\n",
       "    }\n",
       "</style>\n",
       "<table border=\"1\" class=\"dataframe\">\n",
       "  <thead>\n",
       "    <tr style=\"text-align: right;\">\n",
       "      <th></th>\n",
       "      <th>PassengerId</th>\n",
       "      <th>Survived</th>\n",
       "      <th>Pclass</th>\n",
       "      <th>Name</th>\n",
       "      <th>Sex</th>\n",
       "      <th>Age</th>\n",
       "      <th>SibSp</th>\n",
       "      <th>Parch</th>\n",
       "      <th>Ticket</th>\n",
       "      <th>Fare</th>\n",
       "      <th>Cabin</th>\n",
       "      <th>Embarked</th>\n",
       "    </tr>\n",
       "  </thead>\n",
       "  <tbody>\n",
       "    <tr>\n",
       "      <th>0</th>\n",
       "      <td>1</td>\n",
       "      <td>0</td>\n",
       "      <td>3</td>\n",
       "      <td>Braund, Mr. Owen Harris</td>\n",
       "      <td>male</td>\n",
       "      <td>22.0</td>\n",
       "      <td>1</td>\n",
       "      <td>0</td>\n",
       "      <td>A/5 21171</td>\n",
       "      <td>7.2500</td>\n",
       "      <td>NaN</td>\n",
       "      <td>S</td>\n",
       "    </tr>\n",
       "    <tr>\n",
       "      <th>1</th>\n",
       "      <td>2</td>\n",
       "      <td>1</td>\n",
       "      <td>1</td>\n",
       "      <td>Cumings, Mrs. John Bradley (Florence Briggs Th...</td>\n",
       "      <td>female</td>\n",
       "      <td>38.0</td>\n",
       "      <td>1</td>\n",
       "      <td>0</td>\n",
       "      <td>PC 17599</td>\n",
       "      <td>71.2833</td>\n",
       "      <td>C85</td>\n",
       "      <td>C</td>\n",
       "    </tr>\n",
       "    <tr>\n",
       "      <th>2</th>\n",
       "      <td>3</td>\n",
       "      <td>1</td>\n",
       "      <td>3</td>\n",
       "      <td>Heikkinen, Miss. Laina</td>\n",
       "      <td>female</td>\n",
       "      <td>26.0</td>\n",
       "      <td>0</td>\n",
       "      <td>0</td>\n",
       "      <td>STON/O2. 3101282</td>\n",
       "      <td>7.9250</td>\n",
       "      <td>NaN</td>\n",
       "      <td>S</td>\n",
       "    </tr>\n",
       "    <tr>\n",
       "      <th>3</th>\n",
       "      <td>4</td>\n",
       "      <td>1</td>\n",
       "      <td>1</td>\n",
       "      <td>Futrelle, Mrs. Jacques Heath (Lily May Peel)</td>\n",
       "      <td>female</td>\n",
       "      <td>35.0</td>\n",
       "      <td>1</td>\n",
       "      <td>0</td>\n",
       "      <td>113803</td>\n",
       "      <td>53.1000</td>\n",
       "      <td>C123</td>\n",
       "      <td>S</td>\n",
       "    </tr>\n",
       "    <tr>\n",
       "      <th>4</th>\n",
       "      <td>5</td>\n",
       "      <td>0</td>\n",
       "      <td>3</td>\n",
       "      <td>Allen, Mr. William Henry</td>\n",
       "      <td>male</td>\n",
       "      <td>35.0</td>\n",
       "      <td>0</td>\n",
       "      <td>0</td>\n",
       "      <td>373450</td>\n",
       "      <td>8.0500</td>\n",
       "      <td>NaN</td>\n",
       "      <td>S</td>\n",
       "    </tr>\n",
       "  </tbody>\n",
       "</table>\n",
       "</div>"
      ],
      "text/plain": [
       "   PassengerId  Survived  Pclass  \\\n",
       "0            1         0       3   \n",
       "1            2         1       1   \n",
       "2            3         1       3   \n",
       "3            4         1       1   \n",
       "4            5         0       3   \n",
       "\n",
       "                                                Name     Sex   Age  SibSp  \\\n",
       "0                            Braund, Mr. Owen Harris    male  22.0      1   \n",
       "1  Cumings, Mrs. John Bradley (Florence Briggs Th...  female  38.0      1   \n",
       "2                             Heikkinen, Miss. Laina  female  26.0      0   \n",
       "3       Futrelle, Mrs. Jacques Heath (Lily May Peel)  female  35.0      1   \n",
       "4                           Allen, Mr. William Henry    male  35.0      0   \n",
       "\n",
       "   Parch            Ticket     Fare Cabin Embarked  \n",
       "0      0         A/5 21171   7.2500   NaN        S  \n",
       "1      0          PC 17599  71.2833   C85        C  \n",
       "2      0  STON/O2. 3101282   7.9250   NaN        S  \n",
       "3      0            113803  53.1000  C123        S  \n",
       "4      0            373450   8.0500   NaN        S  "
      ]
     },
     "execution_count": 5,
     "metadata": {},
     "output_type": "execute_result"
    }
   ],
   "source": [
    "# mostrar datos del dataset titanic\n",
    "titanic.head(5)"
   ]
  },
  {
   "cell_type": "code",
   "execution_count": 6,
   "id": "9df46e76-9e4e-4fb4-a0ab-cb0d6b71716b",
   "metadata": {},
   "outputs": [
    {
     "data": {
      "text/html": [
       "<div>\n",
       "<style scoped>\n",
       "    .dataframe tbody tr th:only-of-type {\n",
       "        vertical-align: middle;\n",
       "    }\n",
       "\n",
       "    .dataframe tbody tr th {\n",
       "        vertical-align: top;\n",
       "    }\n",
       "\n",
       "    .dataframe thead th {\n",
       "        text-align: right;\n",
       "    }\n",
       "</style>\n",
       "<table border=\"1\" class=\"dataframe\">\n",
       "  <thead>\n",
       "    <tr style=\"text-align: right;\">\n",
       "      <th></th>\n",
       "      <th>PassengerId</th>\n",
       "      <th>Survived</th>\n",
       "      <th>Pclass</th>\n",
       "      <th>Age</th>\n",
       "      <th>SibSp</th>\n",
       "      <th>Parch</th>\n",
       "      <th>Fare</th>\n",
       "    </tr>\n",
       "  </thead>\n",
       "  <tbody>\n",
       "    <tr>\n",
       "      <th>count</th>\n",
       "      <td>891.000000</td>\n",
       "      <td>891.000000</td>\n",
       "      <td>891.000000</td>\n",
       "      <td>714.000000</td>\n",
       "      <td>891.000000</td>\n",
       "      <td>891.000000</td>\n",
       "      <td>891.000000</td>\n",
       "    </tr>\n",
       "    <tr>\n",
       "      <th>mean</th>\n",
       "      <td>446.000000</td>\n",
       "      <td>0.383838</td>\n",
       "      <td>2.308642</td>\n",
       "      <td>29.699118</td>\n",
       "      <td>0.523008</td>\n",
       "      <td>0.381594</td>\n",
       "      <td>32.204208</td>\n",
       "    </tr>\n",
       "    <tr>\n",
       "      <th>std</th>\n",
       "      <td>257.353842</td>\n",
       "      <td>0.486592</td>\n",
       "      <td>0.836071</td>\n",
       "      <td>14.526497</td>\n",
       "      <td>1.102743</td>\n",
       "      <td>0.806057</td>\n",
       "      <td>49.693429</td>\n",
       "    </tr>\n",
       "    <tr>\n",
       "      <th>min</th>\n",
       "      <td>1.000000</td>\n",
       "      <td>0.000000</td>\n",
       "      <td>1.000000</td>\n",
       "      <td>0.420000</td>\n",
       "      <td>0.000000</td>\n",
       "      <td>0.000000</td>\n",
       "      <td>0.000000</td>\n",
       "    </tr>\n",
       "    <tr>\n",
       "      <th>25%</th>\n",
       "      <td>223.500000</td>\n",
       "      <td>0.000000</td>\n",
       "      <td>2.000000</td>\n",
       "      <td>20.125000</td>\n",
       "      <td>0.000000</td>\n",
       "      <td>0.000000</td>\n",
       "      <td>7.910400</td>\n",
       "    </tr>\n",
       "    <tr>\n",
       "      <th>50%</th>\n",
       "      <td>446.000000</td>\n",
       "      <td>0.000000</td>\n",
       "      <td>3.000000</td>\n",
       "      <td>28.000000</td>\n",
       "      <td>0.000000</td>\n",
       "      <td>0.000000</td>\n",
       "      <td>14.454200</td>\n",
       "    </tr>\n",
       "    <tr>\n",
       "      <th>75%</th>\n",
       "      <td>668.500000</td>\n",
       "      <td>1.000000</td>\n",
       "      <td>3.000000</td>\n",
       "      <td>38.000000</td>\n",
       "      <td>1.000000</td>\n",
       "      <td>0.000000</td>\n",
       "      <td>31.000000</td>\n",
       "    </tr>\n",
       "    <tr>\n",
       "      <th>max</th>\n",
       "      <td>891.000000</td>\n",
       "      <td>1.000000</td>\n",
       "      <td>3.000000</td>\n",
       "      <td>80.000000</td>\n",
       "      <td>8.000000</td>\n",
       "      <td>6.000000</td>\n",
       "      <td>512.329200</td>\n",
       "    </tr>\n",
       "  </tbody>\n",
       "</table>\n",
       "</div>"
      ],
      "text/plain": [
       "       PassengerId    Survived      Pclass         Age       SibSp  \\\n",
       "count   891.000000  891.000000  891.000000  714.000000  891.000000   \n",
       "mean    446.000000    0.383838    2.308642   29.699118    0.523008   \n",
       "std     257.353842    0.486592    0.836071   14.526497    1.102743   \n",
       "min       1.000000    0.000000    1.000000    0.420000    0.000000   \n",
       "25%     223.500000    0.000000    2.000000   20.125000    0.000000   \n",
       "50%     446.000000    0.000000    3.000000   28.000000    0.000000   \n",
       "75%     668.500000    1.000000    3.000000   38.000000    1.000000   \n",
       "max     891.000000    1.000000    3.000000   80.000000    8.000000   \n",
       "\n",
       "            Parch        Fare  \n",
       "count  891.000000  891.000000  \n",
       "mean     0.381594   32.204208  \n",
       "std      0.806057   49.693429  \n",
       "min      0.000000    0.000000  \n",
       "25%      0.000000    7.910400  \n",
       "50%      0.000000   14.454200  \n",
       "75%      0.000000   31.000000  \n",
       "max      6.000000  512.329200  "
      ]
     },
     "execution_count": 6,
     "metadata": {},
     "output_type": "execute_result"
    }
   ],
   "source": [
    "# Descripción estadística del Dataset\n",
    "titanic.describe()"
   ]
  },
  {
   "cell_type": "code",
   "execution_count": 7,
   "id": "997f4792-d95b-472c-b43f-411cde6c1609",
   "metadata": {},
   "outputs": [
    {
     "name": "stdout",
     "output_type": "stream",
     "text": [
      "<class 'pandas.core.frame.DataFrame'>\n",
      "RangeIndex: 891 entries, 0 to 890\n",
      "Data columns (total 12 columns):\n",
      " #   Column       Non-Null Count  Dtype  \n",
      "---  ------       --------------  -----  \n",
      " 0   PassengerId  891 non-null    int64  \n",
      " 1   Survived     891 non-null    int64  \n",
      " 2   Pclass       891 non-null    int64  \n",
      " 3   Name         891 non-null    object \n",
      " 4   Sex          891 non-null    object \n",
      " 5   Age          714 non-null    float64\n",
      " 6   SibSp        891 non-null    int64  \n",
      " 7   Parch        891 non-null    int64  \n",
      " 8   Ticket       891 non-null    object \n",
      " 9   Fare         891 non-null    float64\n",
      " 10  Cabin        204 non-null    object \n",
      " 11  Embarked     889 non-null    object \n",
      "dtypes: float64(2), int64(5), object(5)\n",
      "memory usage: 83.7+ KB\n"
     ]
    }
   ],
   "source": [
    "# Información del DataFrame\n",
    "titanic.info()"
   ]
  },
  {
   "cell_type": "code",
   "execution_count": 8,
   "id": "67081246-635a-46d1-a078-27622a81fcb4",
   "metadata": {},
   "outputs": [
    {
     "data": {
      "text/plain": [
       "(891, 12)"
      ]
     },
     "execution_count": 8,
     "metadata": {},
     "output_type": "execute_result"
    }
   ],
   "source": [
    "# muestar el total de filas y columnas del dataset\n",
    "titanic.shape"
   ]
  },
  {
   "cell_type": "code",
   "execution_count": 9,
   "id": "585cc090-3c56-4172-a362-f3e9f85b5188",
   "metadata": {},
   "outputs": [
    {
     "data": {
      "text/plain": [
       "PassengerId      0\n",
       "Survived         0\n",
       "Pclass           0\n",
       "Name             0\n",
       "Sex              0\n",
       "Age            177\n",
       "SibSp            0\n",
       "Parch            0\n",
       "Ticket           0\n",
       "Fare             0\n",
       "Cabin          687\n",
       "Embarked         2\n",
       "dtype: int64"
      ]
     },
     "execution_count": 9,
     "metadata": {},
     "output_type": "execute_result"
    }
   ],
   "source": [
    "# Verificar valores faltantes\n",
    "titanic.isnull().sum()"
   ]
  },
  {
   "cell_type": "code",
   "execution_count": 10,
   "id": "19b1dd52-c97c-4bf3-a103-31bea0c9722e",
   "metadata": {},
   "outputs": [
    {
     "data": {
      "image/png": "[encoded data removed]",
      "text/plain": [
       "<Figure size 800x600 with 2 Axes>"
      ]
     },
     "metadata": {},
     "output_type": "display_data"
    }
   ],
   "source": [
    "# inserccion de datos faltantes dentro de la varibles\n",
    "# Seleccion de solo las columnas numéricas\n",
    "actual= titanic.select_dtypes(include=['number'])\n",
    "# Calcula la matriz de correlación de las columnas numéricas\n",
    "correlation_matrix = actual.corr()\n",
    "# Crea el mapa de calor\n",
    "plt.figure(figsize=(8, 6))\n",
    "sns.heatmap(correlation_matrix, annot=True, cmap='coolwarm')\n",
    "plt.show()"
   ]
  },
  {
   "cell_type": "code",
   "execution_count": 11,
   "id": "522ac82d-578d-4001-8654-89963a80248c",
   "metadata": {},
   "outputs": [],
   "source": [
    "# Reemplazar los valores faltantes con la media de cada columna\n",
    "actual.fillna(actual.mean(), inplace=True)"
   ]
  },
  {
   "cell_type": "code",
   "execution_count": 12,
   "id": "c6b88d55-48d4-4549-9413-9da2bd7eac98",
   "metadata": {},
   "outputs": [
    {
     "data": {
      "text/html": [
       "<div>\n",
       "<style scoped>\n",
       "    .dataframe tbody tr th:only-of-type {\n",
       "        vertical-align: middle;\n",
       "    }\n",
       "\n",
       "    .dataframe tbody tr th {\n",
       "        vertical-align: top;\n",
       "    }\n",
       "\n",
       "    .dataframe thead th {\n",
       "        text-align: right;\n",
       "    }\n",
       "</style>\n",
       "<table border=\"1\" class=\"dataframe\">\n",
       "  <thead>\n",
       "    <tr style=\"text-align: right;\">\n",
       "      <th></th>\n",
       "      <th>PassengerId</th>\n",
       "      <th>Survived</th>\n",
       "      <th>Pclass</th>\n",
       "      <th>Age</th>\n",
       "      <th>SibSp</th>\n",
       "      <th>Parch</th>\n",
       "      <th>Fare</th>\n",
       "    </tr>\n",
       "  </thead>\n",
       "  <tbody>\n",
       "    <tr>\n",
       "      <th>0</th>\n",
       "      <td>1</td>\n",
       "      <td>0</td>\n",
       "      <td>3</td>\n",
       "      <td>22.0</td>\n",
       "      <td>1</td>\n",
       "      <td>0</td>\n",
       "      <td>7.2500</td>\n",
       "    </tr>\n",
       "    <tr>\n",
       "      <th>1</th>\n",
       "      <td>2</td>\n",
       "      <td>1</td>\n",
       "      <td>1</td>\n",
       "      <td>38.0</td>\n",
       "      <td>1</td>\n",
       "      <td>0</td>\n",
       "      <td>71.2833</td>\n",
       "    </tr>\n",
       "    <tr>\n",
       "      <th>2</th>\n",
       "      <td>3</td>\n",
       "      <td>1</td>\n",
       "      <td>3</td>\n",
       "      <td>26.0</td>\n",
       "      <td>0</td>\n",
       "      <td>0</td>\n",
       "      <td>7.9250</td>\n",
       "    </tr>\n",
       "    <tr>\n",
       "      <th>3</th>\n",
       "      <td>4</td>\n",
       "      <td>1</td>\n",
       "      <td>1</td>\n",
       "      <td>35.0</td>\n",
       "      <td>1</td>\n",
       "      <td>0</td>\n",
       "      <td>53.1000</td>\n",
       "    </tr>\n",
       "    <tr>\n",
       "      <th>4</th>\n",
       "      <td>5</td>\n",
       "      <td>0</td>\n",
       "      <td>3</td>\n",
       "      <td>35.0</td>\n",
       "      <td>0</td>\n",
       "      <td>0</td>\n",
       "      <td>8.0500</td>\n",
       "    </tr>\n",
       "  </tbody>\n",
       "</table>\n",
       "</div>"
      ],
      "text/plain": [
       "   PassengerId  Survived  Pclass   Age  SibSp  Parch     Fare\n",
       "0            1         0       3  22.0      1      0   7.2500\n",
       "1            2         1       1  38.0      1      0  71.2833\n",
       "2            3         1       3  26.0      0      0   7.9250\n",
       "3            4         1       1  35.0      1      0  53.1000\n",
       "4            5         0       3  35.0      0      0   8.0500"
      ]
     },
     "execution_count": 12,
     "metadata": {},
     "output_type": "execute_result"
    }
   ],
   "source": [
    "# muestra los datos actualizados en la tabla\n",
    "actual.head(5)"
   ]
  },
  {
   "cell_type": "code",
   "execution_count": 13,
   "id": "f2007f51-92a1-4070-90c3-98de6d480ac1",
   "metadata": {},
   "outputs": [
    {
     "data": {
      "text/html": [
       "<div>\n",
       "<style scoped>\n",
       "    .dataframe tbody tr th:only-of-type {\n",
       "        vertical-align: middle;\n",
       "    }\n",
       "\n",
       "    .dataframe tbody tr th {\n",
       "        vertical-align: top;\n",
       "    }\n",
       "\n",
       "    .dataframe thead th {\n",
       "        text-align: right;\n",
       "    }\n",
       "</style>\n",
       "<table border=\"1\" class=\"dataframe\">\n",
       "  <thead>\n",
       "    <tr style=\"text-align: right;\">\n",
       "      <th></th>\n",
       "      <th>PassengerId</th>\n",
       "      <th>Survived</th>\n",
       "      <th>Pclass</th>\n",
       "      <th>Age</th>\n",
       "      <th>SibSp</th>\n",
       "      <th>Parch</th>\n",
       "      <th>Fare</th>\n",
       "    </tr>\n",
       "  </thead>\n",
       "  <tbody>\n",
       "    <tr>\n",
       "      <th>count</th>\n",
       "      <td>891.000000</td>\n",
       "      <td>891.000000</td>\n",
       "      <td>891.000000</td>\n",
       "      <td>891.000000</td>\n",
       "      <td>891.000000</td>\n",
       "      <td>891.000000</td>\n",
       "      <td>891.000000</td>\n",
       "    </tr>\n",
       "    <tr>\n",
       "      <th>mean</th>\n",
       "      <td>446.000000</td>\n",
       "      <td>0.383838</td>\n",
       "      <td>2.308642</td>\n",
       "      <td>29.699118</td>\n",
       "      <td>0.523008</td>\n",
       "      <td>0.381594</td>\n",
       "      <td>32.204208</td>\n",
       "    </tr>\n",
       "    <tr>\n",
       "      <th>std</th>\n",
       "      <td>257.353842</td>\n",
       "      <td>0.486592</td>\n",
       "      <td>0.836071</td>\n",
       "      <td>13.002015</td>\n",
       "      <td>1.102743</td>\n",
       "      <td>0.806057</td>\n",
       "      <td>49.693429</td>\n",
       "    </tr>\n",
       "    <tr>\n",
       "      <th>min</th>\n",
       "      <td>1.000000</td>\n",
       "      <td>0.000000</td>\n",
       "      <td>1.000000</td>\n",
       "      <td>0.420000</td>\n",
       "      <td>0.000000</td>\n",
       "      <td>0.000000</td>\n",
       "      <td>0.000000</td>\n",
       "    </tr>\n",
       "    <tr>\n",
       "      <th>25%</th>\n",
       "      <td>223.500000</td>\n",
       "      <td>0.000000</td>\n",
       "      <td>2.000000</td>\n",
       "      <td>22.000000</td>\n",
       "      <td>0.000000</td>\n",
       "      <td>0.000000</td>\n",
       "      <td>7.910400</td>\n",
       "    </tr>\n",
       "    <tr>\n",
       "      <th>50%</th>\n",
       "      <td>446.000000</td>\n",
       "      <td>0.000000</td>\n",
       "      <td>3.000000</td>\n",
       "      <td>29.699118</td>\n",
       "      <td>0.000000</td>\n",
       "      <td>0.000000</td>\n",
       "      <td>14.454200</td>\n",
       "    </tr>\n",
       "    <tr>\n",
       "      <th>75%</th>\n",
       "      <td>668.500000</td>\n",
       "      <td>1.000000</td>\n",
       "      <td>3.000000</td>\n",
       "      <td>35.000000</td>\n",
       "      <td>1.000000</td>\n",
       "      <td>0.000000</td>\n",
       "      <td>31.000000</td>\n",
       "    </tr>\n",
       "    <tr>\n",
       "      <th>max</th>\n",
       "      <td>891.000000</td>\n",
       "      <td>1.000000</td>\n",
       "      <td>3.000000</td>\n",
       "      <td>80.000000</td>\n",
       "      <td>8.000000</td>\n",
       "      <td>6.000000</td>\n",
       "      <td>512.329200</td>\n",
       "    </tr>\n",
       "  </tbody>\n",
       "</table>\n",
       "</div>"
      ],
      "text/plain": [
       "       PassengerId    Survived      Pclass         Age       SibSp  \\\n",
       "count   891.000000  891.000000  891.000000  891.000000  891.000000   \n",
       "mean    446.000000    0.383838    2.308642   29.699118    0.523008   \n",
       "std     257.353842    0.486592    0.836071   13.002015    1.102743   \n",
       "min       1.000000    0.000000    1.000000    0.420000    0.000000   \n",
       "25%     223.500000    0.000000    2.000000   22.000000    0.000000   \n",
       "50%     446.000000    0.000000    3.000000   29.699118    0.000000   \n",
       "75%     668.500000    1.000000    3.000000   35.000000    1.000000   \n",
       "max     891.000000    1.000000    3.000000   80.000000    8.000000   \n",
       "\n",
       "            Parch        Fare  \n",
       "count  891.000000  891.000000  \n",
       "mean     0.381594   32.204208  \n",
       "std      0.806057   49.693429  \n",
       "min      0.000000    0.000000  \n",
       "25%      0.000000    7.910400  \n",
       "50%      0.000000   14.454200  \n",
       "75%      0.000000   31.000000  \n",
       "max      6.000000  512.329200  "
      ]
     },
     "execution_count": 13,
     "metadata": {},
     "output_type": "execute_result"
    }
   ],
   "source": [
    "# Descripción estadística del Dataset\n",
    "actual.describe()"
   ]
  },
  {
   "cell_type": "code",
   "execution_count": 14,
   "id": "e0c5bed0-2fd9-4a13-a5ba-b9ae8ae1f182",
   "metadata": {},
   "outputs": [
    {
     "data": {
      "text/plain": [
       "(891, 7)"
      ]
     },
     "execution_count": 14,
     "metadata": {},
     "output_type": "execute_result"
    }
   ],
   "source": [
    "# muestar el total de filas y columnas del dataset actual\n",
    "actual.shape"
   ]
  },
  {
   "cell_type": "code",
   "execution_count": 16,
   "id": "16c18dfe-3fd4-4ce1-b890-18537b3497f4",
   "metadata": {},
   "outputs": [
    {
     "data": {
      "text/plain": [
       "Text(0.5, 1.0, 'Identificación de Datos Faltantes y Atípicos')"
      ]
     },
     "execution_count": 16,
     "metadata": {},
     "output_type": "execute_result"
    },
    {
     "data": {
      "image/png": "[encoded data removed]",
      "text/plain": [
       "<Figure size 600x300 with 1 Axes>"
      ]
     },
     "metadata": {},
     "output_type": "display_data"
    }
   ],
   "source": [
    "#Identificación de Datos Faltantes y Atípicos\n",
    "plt.figure(figsize=(6, 3))\n",
    "sns.boxplot(x=actual['Pclass'])\n",
    "plt.title('Identificación de Datos Faltantes y Atípicos', fontsize=10 )"
   ]
  },
  {
   "cell_type": "code",
   "execution_count": 19,
   "id": "54b0d8fe-6da9-406e-b866-76aea0747a3d",
   "metadata": {},
   "outputs": [],
   "source": [
    "# implementacion de la variables x y Y para el test y train\n",
    "X = actual.drop('Pclass',axis=1) # Se cargan los datos de train sin los datos de la columna precio\n",
    "Y = actual['Pclass'] # Se cargan los datos de train con los datos de la la columna precio\n",
    "X_train, X_test, Y_train, Y_test = train_test_split(X, Y, test_size=0.25,random_state= 0)"
   ]
  },
  {
   "cell_type": "code",
   "execution_count": 20,
   "id": "fc85c080-6631-4281-9ae6-a52c72e5700c",
   "metadata": {},
   "outputs": [
    {
     "name": "stdout",
     "output_type": "stream",
     "text": [
      "     PassengerId  Survived        Age  SibSp  Parch     Fare\n",
      "105          106         0  28.000000      0      0   7.8958\n",
      "68            69         1  17.000000      4      2   7.9250\n",
      "253          254         0  30.000000      1      0  16.1000\n",
      "320          321         0  22.000000      0      0   7.2500\n",
      "706          707         1  45.000000      0      0  13.5000\n",
      "..           ...       ...        ...    ...    ...      ...\n",
      "835          836         1  39.000000      1      1  83.1583\n",
      "192          193         1  19.000000      1      0   7.8542\n",
      "629          630         0  29.699118      0      0   7.7333\n",
      "559          560         1  36.000000      1      0  17.4000\n",
      "684          685         0  60.000000      1      1  39.0000\n",
      "\n",
      "[668 rows x 6 columns]\n"
     ]
    }
   ],
   "source": [
    "print (X_train)"
   ]
  },
  {
   "cell_type": "code",
   "execution_count": 21,
   "id": "929d60a1-df1a-4cf0-ad85-8afb1e0faffc",
   "metadata": {},
   "outputs": [
    {
     "name": "stdout",
     "output_type": "stream",
     "text": [
      "105    3\n",
      "68     3\n",
      "253    3\n",
      "320    3\n",
      "706    2\n",
      "      ..\n",
      "835    1\n",
      "192    3\n",
      "629    3\n",
      "559    3\n",
      "684    2\n",
      "Name: Pclass, Length: 668, dtype: int64\n"
     ]
    }
   ],
   "source": [
    "print (Y_train)"
   ]
  },
  {
   "cell_type": "code",
   "execution_count": 22,
   "id": "2a8bbadd-b6ad-4391-a5ee-9aca59d9c3c1",
   "metadata": {},
   "outputs": [],
   "source": [
    "# implementacion del modelo de regresion lineal para el dataset\n",
    "from sklearn.linear_model import LinearRegression\n",
    "modelo_regresion = LinearRegression()\n",
    "modelo_regresion.fit(X_train, Y_train)\n",
    "# Crea el modelo de prediccion\n",
    "Prediccion = modelo_regresion.predict(X_test) "
   ]
  },
  {
   "cell_type": "code",
   "execution_count": 23,
   "id": "6c39c12a-916b-45a2-a8f6-4c1d2c729850",
   "metadata": {},
   "outputs": [
    {
     "name": "stdout",
     "output_type": "stream",
     "text": [
      "495    3\n",
      "648    3\n",
      "278    3\n",
      "31     1\n",
      "255    3\n",
      "      ..\n",
      "167    3\n",
      "306    1\n",
      "379    3\n",
      "742    1\n",
      "10     3\n",
      "Name: Pclass, Length: 223, dtype: int64\n"
     ]
    }
   ],
   "source": [
    "print (Y_test)"
   ]
  },
  {
   "cell_type": "code",
   "execution_count": 24,
   "id": "9da9e323-9ba4-4e31-80b4-0780d52b3d7c",
   "metadata": {},
   "outputs": [],
   "source": [
    "Prediccion = modelo_regresion.predict(X_test)"
   ]
  },
  {
   "cell_type": "code",
   "execution_count": 25,
   "id": "00ff6e8e-8fd0-4a0d-8590-2e42fcc9a343",
   "metadata": {},
   "outputs": [
    {
     "name": "stdout",
     "output_type": "stream",
     "text": [
      "[2.55664031 2.60680698 3.09679627 1.1740334  2.27485328 2.02370658\n",
      " 0.87798708 1.07147723 1.67714345 2.20354801 2.71618904 1.98003079\n",
      " 2.61623704 2.5645362  1.71170662 2.89267657 2.71740779 2.68551665\n",
      " 2.51161215 2.7512133  2.79156338 1.203311   2.60218355 2.4330809\n",
      " 2.72699362 1.14126491 2.56726032 2.33877978 2.18580268 3.19504442\n",
      " 2.54959091 1.82302333 2.63201738 1.99061351 2.67587867 1.97559969\n",
      " 2.38010449 2.60761034 2.64552132 2.14223029 1.21853502 2.68991154\n",
      " 2.55526952 2.88283587 1.56884933 2.61740963 2.60391513 0.63463715\n",
      " 2.39876969 1.77454872 2.01685976 1.94819208 2.62614431 2.79203803\n",
      " 2.01679272 2.28891219 1.90688903 3.06357478 3.05171278 2.17784858\n",
      " 2.7574053  2.75335565 1.27281649 2.35393841 2.34769465 2.55937695\n",
      " 1.71183124 2.49243684 2.6428496  2.19922014 2.20624376 1.5767236\n",
      " 2.11803125 2.61679037 2.69257889 2.22866813 1.08071382 2.28548122\n",
      " 2.55113141 2.5596596  2.52323575 2.60097998 2.64365983 2.84030154\n",
      " 2.18570958 1.79669598 0.2710887  1.60361276 2.09966907 2.07186849\n",
      " 2.66163871 2.78447624 2.63366506 1.61484424 3.07358945 2.61215411\n",
      " 2.36775775 2.85829093 1.93089906 1.70069935 2.93496273 2.09911153\n",
      " 2.79033249 2.9275615  2.7142046  2.12031375 2.19001422 2.45738648\n",
      " 2.59144139 2.18190769 2.2834016  2.02447036 1.76781599 2.60494925\n",
      " 1.38163901 2.18154591 2.28964747 0.72922345 2.42721112 1.89581237\n",
      " 1.81254319 2.61535615 2.76481305 2.51721163 2.55408087 1.94611821\n",
      " 2.6124057  2.33221706 2.6714131  2.20993173 2.75999875 2.75782886\n",
      " 2.68906398 2.81945703 1.86929807 2.76894055 2.66463078 2.47639211\n",
      " 2.2732126  2.68047284 2.6012637  1.54828417 2.60623791 2.81621444\n",
      " 1.99696015 2.70434033 2.5646588  1.89061031 0.03753917 2.61004322\n",
      " 1.81174282 2.16440289 2.4675611  2.62734064 2.38649104 2.64878634\n",
      " 2.35348189 1.61175813 2.61458366 2.76321953 2.61052865 2.36249992\n",
      " 1.41956899 2.2322897  2.98026853 2.70162273 2.24091036 2.74484033\n",
      " 2.71175905 2.82241929 2.24308742 1.6173807  2.61456919 2.54987171\n",
      " 2.48371175 2.59831141 1.40627923 2.71635657 2.79555222 2.67809348\n",
      " 2.56627044 2.45865254 2.80952153 2.76414204 2.17650285 2.73816481\n",
      " 2.19869665 2.66506704 2.68115384 2.21072722 2.79505166 2.28574863\n",
      " 2.44667764 2.19082993 2.6105961  1.6426917  2.61756843 2.78489731\n",
      " 1.97615203 2.33151889 2.40442188 2.61170386 1.88284373 2.50188295\n",
      " 2.38512254 2.53036154 2.56683599 2.55754132 2.44281632 2.25414417\n",
      " 2.72039896 1.51914952 3.01994933 3.00985046 2.5225308  2.79009287\n",
      " 2.44408374 2.75575372 2.48061981 1.39649857 2.7975271  0.57202214\n",
      " 2.69327884]\n"
     ]
    }
   ],
   "source": [
    "# imprimir las predicciones\n",
    "print (Prediccion)"
   ]
  },
  {
   "cell_type": "code",
   "execution_count": 26,
   "id": "6f0921bb-22ba-400a-b1a3-7aa0dd85c66a",
   "metadata": {},
   "outputs": [],
   "source": [
    "# Convertir predicciones continuas en clases discretas utilizando un umbral\n",
    "umbral = 0.5\n",
    "Y_pred_clases = (Prediccion >= umbral).astype(int)"
   ]
  },
  {
   "cell_type": "code",
   "execution_count": 27,
   "id": "6766c69a-86fd-4d83-85d1-6c5ab731e346",
   "metadata": {},
   "outputs": [
    {
     "name": "stdout",
     "output_type": "stream",
     "text": [
      "Error cuadrático medio: 0.33976040687161646\n",
      "Raíz del error cuadrático medio: 0.5828897038648191\n",
      "Coeficiente de determinación (R-cuadrado): 0.5092667652245537\n"
     ]
    }
   ],
   "source": [
    "# Calcula el error cuadrático medio (MSE)\n",
    "mse = mean_squared_error(Y_test, Prediccion)\n",
    "print(\"Error cuadrático medio:\", mse)\n",
    "\n",
    "# Calcula la raíz del error cuadrático medio (RMSE)\n",
    "rmse = mean_squared_error(Y_test, Prediccion, squared=False)\n",
    "print(\"Raíz del error cuadrático medio:\", rmse)\n",
    "\n",
    "# Calcula el coeficiente de determinación (R-cuadrado)\n",
    "r2 = r2_score(Y_test, Prediccion)\n",
    "print(\"Coeficiente de determinación (R-cuadrado):\", r2)"
   ]
  },
  {
   "cell_type": "code",
   "execution_count": 37,
   "id": "ae8f86a7-478d-4567-8f2d-bd54663030b6",
   "metadata": {},
   "outputs": [
    {
     "data": {
      "image/png": "[encoded data removed]",
      "text/plain": [
       "<Figure size 500x300 with 1 Axes>"
      ]
     },
     "metadata": {},
     "output_type": "display_data"
    },
    {
     "data": {
      "image/png": "[encoded data removed]",
      "text/plain": [
       "<Figure size 500x300 with 1 Axes>"
      ]
     },
     "metadata": {},
     "output_type": "display_data"
    },
    {
     "data": {
      "image/png": "[encoded data removed]",
      "text/plain": [
       "<Figure size 500x300 with 1 Axes>"
      ]
     },
     "metadata": {},
     "output_type": "display_data"
    }
   ],
   "source": [
    "# Gráfico de dispersión de los valores reales vs. las predicciones\n",
    "plt.figure(figsize=(5, 3))\n",
    "plt.scatter(Y_test, Prediccion)\n",
    "plt.plot([min(Y_test), max(Y_test)], [min(Y_test), max(Y_test)], '--', color='red')  # Línea diagonal\n",
    "plt.xlabel('Valores reales')\n",
    "plt.ylabel('Predicciones')\n",
    "plt.title('Valores reales vs. Predicciones')\n",
    "plt.grid(True)\n",
    "plt.show()\n",
    "# Gráfico de residuos vs. predicciones\n",
    "residuos = Y_test - Prediccion\n",
    "plt.figure(figsize=(5, 3))\n",
    "plt.scatter(Prediccion, residuos)\n",
    "plt.xlabel('Predicciones')\n",
    "plt.ylabel('Residuos')\n",
    "plt.title('Residuos vs. Predicciones')\n",
    "plt.axhline(y=0, color='red', linestyle='--')  # Línea horizontal en y=0\n",
    "plt.grid(True)\n",
    "plt.show()\n",
    "# Histograma de residuos\n",
    "plt.figure(figsize=(5, 3))\n",
    "sns.histplot(residuos, kde=True)\n",
    "plt.xlabel('Residuos')\n",
    "plt.ylabel('Frecuencia')\n",
    "plt.title('Histograma de Residuos')\n",
    "plt.grid(True)\n",
    "plt.show()\n",
    "warnings.filterwarnings(\"ignore\", message=\"use_inf_as_na option is deprecated\")"
   ]
  },
  {
   "cell_type": "code",
   "execution_count": null,
   "id": "cf52e09c-2341-433c-9260-06a3e03e3206",
   "metadata": {},
   "outputs": [],
   "source": []
  }
 ],
 "metadata": {
  "kernelspec": {
   "display_name": "Python 3 (ipykernel)",
   "language": "python",
   "name": "python3"
  },
  "language_info": {
   "codemirror_mode": {
    "name": "ipython",
    "version": 3
   },
   "file_extension": ".py",
   "mimetype": "text/x-python",
   "name": "python",
   "nbconvert_exporter": "python",
   "pygments_lexer": "ipython3",
   "version": "3.11.7"
  }
 },
 "nbformat": 4,
 "nbformat_minor": 5
}
